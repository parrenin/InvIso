{
 "cells": [
  {
   "cell_type": "markdown",
   "metadata": {},
   "source": [
    "# Notebook pour un trace simple: age-depth a Little Dome C\n",
    "## En utilisant les sorties 2D numpy\n"
   ]
  },
  {
   "cell_type": "markdown",
   "metadata": {},
   "source": [
    "## imports modules"
   ]
  },
  {
   "cell_type": "code",
   "execution_count": 1,
   "metadata": {},
   "outputs": [
    {
     "name": "stdout",
     "output_type": "stream",
     "text": [
      "Warning: Cannot change to a different GUI toolkit: notebook. Using qt instead.\n"
     ]
    }
   ],
   "source": [
    "from matplotlib import pyplot as plt\n",
    "\n",
    "%matplotlib qt\n",
    "%matplotlib notebook\n",
    "\n",
    "#matplotlib inline # To display plot outputs inside the notebook itself (and not in the separate viewer)\n",
    "#%matplotlib auto\n",
    "import numpy as np\n",
    "\n",
    "import pandas as pd\n",
    "import scipy as sp"
   ]
  },
  {
   "cell_type": "markdown",
   "metadata": {},
   "source": [
    "# import data "
   ]
  },
  {
   "cell_type": "code",
   "execution_count": 2,
   "metadata": {},
   "outputs": [],
   "source": [
    "# fichiers variables calculees\n",
    "\n",
    "dir_fred = '../LDC_Delores_nov_2019/'\n",
    "radar_line = 'BV38B-E_proc2/'\n",
    "\n",
    "# names of 2D files creadte by isoinv in the radar_line directory\n",
    "age_fl = 'age.txt'\n",
    "distance_fl = 'distance.txt'\n",
    "depth_fl = 'depth.txt'\n",
    "thinning_fl ='thinning.txt'\n",
    "resolution_fl ='ages_density.txt'\n",
    "   "
   ]
  },
  {
   "cell_type": "markdown",
   "metadata": {},
   "source": [
    "### import ages model, distance, depth, thinning, resolution"
   ]
  },
  {
   "cell_type": "code",
   "execution_count": 3,
   "metadata": {},
   "outputs": [
    {
     "ename": "OSError",
     "evalue": "LDC_Delores_nov_2019/BV38B-E_proc2/age.txt not found.",
     "output_type": "error",
     "traceback": [
      "\u001b[0;31m---------------------------------------------------------------------------\u001b[0m",
      "\u001b[0;31mOSError\u001b[0m                                   Traceback (most recent call last)",
      "\u001b[0;32m<ipython-input-3-a65aaaa56f50>\u001b[0m in \u001b[0;36m<module>\u001b[0;34m\u001b[0m\n\u001b[1;32m      7\u001b[0m \u001b[0;34m\u001b[0m\u001b[0m\n\u001b[1;32m      8\u001b[0m \u001b[0;34m\u001b[0m\u001b[0m\n\u001b[0;32m----> 9\u001b[0;31m \u001b[0mage\u001b[0m \u001b[0;34m=\u001b[0m \u001b[0mnp\u001b[0m\u001b[0;34m.\u001b[0m\u001b[0mloadtxt\u001b[0m\u001b[0;34m(\u001b[0m\u001b[0mfile_age\u001b[0m\u001b[0;34m)\u001b[0m\u001b[0;34m\u001b[0m\u001b[0m\n\u001b[0m\u001b[1;32m     10\u001b[0m \u001b[0mdist\u001b[0m \u001b[0;34m=\u001b[0m \u001b[0mnp\u001b[0m\u001b[0;34m.\u001b[0m\u001b[0mloadtxt\u001b[0m\u001b[0;34m(\u001b[0m\u001b[0mfile_dist\u001b[0m\u001b[0;34m)\u001b[0m\u001b[0;34m\u001b[0m\u001b[0m\n\u001b[1;32m     11\u001b[0m \u001b[0mdepth\u001b[0m \u001b[0;34m=\u001b[0m \u001b[0mnp\u001b[0m\u001b[0;34m.\u001b[0m\u001b[0mloadtxt\u001b[0m\u001b[0;34m(\u001b[0m\u001b[0mfile_depth\u001b[0m\u001b[0;34m)\u001b[0m\u001b[0;34m\u001b[0m\u001b[0m\n",
      "\u001b[0;32m~/anaconda3/lib/python3.7/site-packages/numpy/lib/npyio.py\u001b[0m in \u001b[0;36mloadtxt\u001b[0;34m(fname, dtype, comments, delimiter, converters, skiprows, usecols, unpack, ndmin, encoding, max_rows)\u001b[0m\n\u001b[1;32m    966\u001b[0m             \u001b[0mfname\u001b[0m \u001b[0;34m=\u001b[0m \u001b[0mos_fspath\u001b[0m\u001b[0;34m(\u001b[0m\u001b[0mfname\u001b[0m\u001b[0;34m)\u001b[0m\u001b[0;34m\u001b[0m\u001b[0m\n\u001b[1;32m    967\u001b[0m         \u001b[0;32mif\u001b[0m \u001b[0m_is_string_like\u001b[0m\u001b[0;34m(\u001b[0m\u001b[0mfname\u001b[0m\u001b[0;34m)\u001b[0m\u001b[0;34m:\u001b[0m\u001b[0;34m\u001b[0m\u001b[0m\n\u001b[0;32m--> 968\u001b[0;31m             \u001b[0mfh\u001b[0m \u001b[0;34m=\u001b[0m \u001b[0mnp\u001b[0m\u001b[0;34m.\u001b[0m\u001b[0mlib\u001b[0m\u001b[0;34m.\u001b[0m\u001b[0m_datasource\u001b[0m\u001b[0;34m.\u001b[0m\u001b[0mopen\u001b[0m\u001b[0;34m(\u001b[0m\u001b[0mfname\u001b[0m\u001b[0;34m,\u001b[0m \u001b[0;34m'rt'\u001b[0m\u001b[0;34m,\u001b[0m \u001b[0mencoding\u001b[0m\u001b[0;34m=\u001b[0m\u001b[0mencoding\u001b[0m\u001b[0;34m)\u001b[0m\u001b[0;34m\u001b[0m\u001b[0m\n\u001b[0m\u001b[1;32m    969\u001b[0m             \u001b[0mfencoding\u001b[0m \u001b[0;34m=\u001b[0m \u001b[0mgetattr\u001b[0m\u001b[0;34m(\u001b[0m\u001b[0mfh\u001b[0m\u001b[0;34m,\u001b[0m \u001b[0;34m'encoding'\u001b[0m\u001b[0;34m,\u001b[0m \u001b[0;34m'latin1'\u001b[0m\u001b[0;34m)\u001b[0m\u001b[0;34m\u001b[0m\u001b[0m\n\u001b[1;32m    970\u001b[0m             \u001b[0mfh\u001b[0m \u001b[0;34m=\u001b[0m \u001b[0miter\u001b[0m\u001b[0;34m(\u001b[0m\u001b[0mfh\u001b[0m\u001b[0;34m)\u001b[0m\u001b[0;34m\u001b[0m\u001b[0m\n",
      "\u001b[0;32m~/anaconda3/lib/python3.7/site-packages/numpy/lib/_datasource.py\u001b[0m in \u001b[0;36mopen\u001b[0;34m(path, mode, destpath, encoding, newline)\u001b[0m\n\u001b[1;32m    267\u001b[0m \u001b[0;34m\u001b[0m\u001b[0m\n\u001b[1;32m    268\u001b[0m     \u001b[0mds\u001b[0m \u001b[0;34m=\u001b[0m \u001b[0mDataSource\u001b[0m\u001b[0;34m(\u001b[0m\u001b[0mdestpath\u001b[0m\u001b[0;34m)\u001b[0m\u001b[0;34m\u001b[0m\u001b[0m\n\u001b[0;32m--> 269\u001b[0;31m     \u001b[0;32mreturn\u001b[0m \u001b[0mds\u001b[0m\u001b[0;34m.\u001b[0m\u001b[0mopen\u001b[0m\u001b[0;34m(\u001b[0m\u001b[0mpath\u001b[0m\u001b[0;34m,\u001b[0m \u001b[0mmode\u001b[0m\u001b[0;34m,\u001b[0m \u001b[0mencoding\u001b[0m\u001b[0;34m=\u001b[0m\u001b[0mencoding\u001b[0m\u001b[0;34m,\u001b[0m \u001b[0mnewline\u001b[0m\u001b[0;34m=\u001b[0m\u001b[0mnewline\u001b[0m\u001b[0;34m)\u001b[0m\u001b[0;34m\u001b[0m\u001b[0m\n\u001b[0m\u001b[1;32m    270\u001b[0m \u001b[0;34m\u001b[0m\u001b[0m\n\u001b[1;32m    271\u001b[0m \u001b[0;34m\u001b[0m\u001b[0m\n",
      "\u001b[0;32m~/anaconda3/lib/python3.7/site-packages/numpy/lib/_datasource.py\u001b[0m in \u001b[0;36mopen\u001b[0;34m(self, path, mode, encoding, newline)\u001b[0m\n\u001b[1;32m    621\u001b[0m                                       encoding=encoding, newline=newline)\n\u001b[1;32m    622\u001b[0m         \u001b[0;32melse\u001b[0m\u001b[0;34m:\u001b[0m\u001b[0;34m\u001b[0m\u001b[0m\n\u001b[0;32m--> 623\u001b[0;31m             \u001b[0;32mraise\u001b[0m \u001b[0mIOError\u001b[0m\u001b[0;34m(\u001b[0m\u001b[0;34m\"%s not found.\"\u001b[0m \u001b[0;34m%\u001b[0m \u001b[0mpath\u001b[0m\u001b[0;34m)\u001b[0m\u001b[0;34m\u001b[0m\u001b[0m\n\u001b[0m\u001b[1;32m    624\u001b[0m \u001b[0;34m\u001b[0m\u001b[0m\n\u001b[1;32m    625\u001b[0m \u001b[0;34m\u001b[0m\u001b[0m\n",
      "\u001b[0;31mOSError\u001b[0m: LDC_Delores_nov_2019/BV38B-E_proc2/age.txt not found."
     ]
    }
   ],
   "source": [
    "file_age = dir_fred + radar_line + age_fl\n",
    "file_dist = dir_fred + radar_line + distance_fl\n",
    "file_depth = dir_fred + radar_line + depth_fl\n",
    "file_thin = dir_fred + radar_line + thinning_fl\n",
    "file_reso = dir_fred + radar_line + resolution_fl\n",
    "\n",
    "\n",
    "\n",
    "age = np.loadtxt(file_age)\n",
    "dist = np.loadtxt(file_dist)\n",
    "depth = np.loadtxt(file_depth)\n",
    "thin = np.loadtxt(file_thin)\n",
    "reso = np.loadtxt(file_reso)\n"
   ]
  },
  {
   "cell_type": "markdown",
   "metadata": {},
   "source": [
    "### Import Isochrones observed"
   ]
  },
  {
   "cell_type": "code",
   "execution_count": null,
   "metadata": {},
   "outputs": [],
   "source": [
    "# lecture des ages iso\n",
    "\n",
    "ages_iso_obs = 'ages.txt' # contient les ages des isochrones\n",
    "\n",
    "file_iso_ages = dir_fred + ages_iso_obs \n",
    "df_ages = pd.read_csv(file_iso_ages,header=0,delim_whitespace=True)\n",
    "\n",
    "# la premiere ligne a des noms de colonne avec espaces et parenthese que pandas ne comprend pas\n",
    "# contournement. Juste pour montrer comment on appelle les colonnes avec pandas.\n",
    "\n",
    "df_ages = df_ages.iloc[:,0:3]\n",
    "df_ages.columns =  ['age','sigma_age','sigma_accu']\n",
    "ages_iso = pd.DataFrame(df_ages,columns=['age']).values / 1000. \n",
    "\n",
    "#on aurait pu se contenter de \n",
    "ages_iso = df_ages.iloc[:,0].values /1000.   # .values transforme la DataFrame en array numpy\n",
    "#ages_iso\n",
    "\n",
    "# lecture des ages interpoles sur le pas du modèle\n",
    "\n",
    "iso_obs = 'iso_obs_interp.txt'\n",
    "file_iso = dir_fred + radar_line + iso_obs\n",
    "depth_iso = np.loadtxt(file_iso)"
   ]
  },
  {
   "cell_type": "markdown",
   "metadata": {},
   "source": [
    "### Fonctions extraction colonnes et plot"
   ]
  },
  {
   "cell_type": "code",
   "execution_count": null,
   "metadata": {
    "scrolled": true
   },
   "outputs": [],
   "source": [
    "# age\n",
    "def plot_age_vertical(distance,index_col,dist,age,depth,ages_iso,depth_iso):\n",
    "\n",
    "    ## select a distance, find the corresponding index and extract the vertical profile data\n",
    "    epsilon = 0.01   # pour le test \n",
    "    result = np.where(abs(distance - dist[0,:]) < epsilon)\n",
    "    index = (result[0])                # index de la distance\n",
    "    distlabel = str(distance) + 'km'\n",
    "    \n",
    "    age_col = age[:,index]             # age calculé\n",
    "    depth_col = depth[:,index]         # profondeur des ages calcules\n",
    "    z_iso = depth_iso[:,index]  # pour les marqueurs iso observes, interpoles sur grille modele\n",
    "    \n",
    "    plt.plot(age_col,depth_col,color=line_col[index_col],zorder = 2,label=distlabel)  # see line 2D properties in tutorial\n",
    "    plt.scatter(ages_iso, z_iso,color=line_col[index_col],zorder = 4, s=4)\n",
    "    plt.legend(loc=1)\n",
    "    \n",
    "    return\n"
   ]
  },
  {
   "cell_type": "code",
   "execution_count": null,
   "metadata": {
    "scrolled": true
   },
   "outputs": [],
   "source": [
    "# thinning\n",
    "def plot_thinning_vertical(distance,index_col,dist,thin,depth):\n",
    "\n",
    "    ## select a distance, find the corresponding index and extract the vertical profile data\n",
    "    epsilon = 0.01   # pour le test \n",
    "    result = np.where(abs(distance - dist[0,:]) < epsilon)\n",
    "    index = (result[0])                # index de la distance\n",
    "    distlabel = str(distance) + 'km'\n",
    "    \n",
    "    thin_col = thin[:,index]             # age calculé\n",
    "    depth_col = depth[:,index]         # profondeur des ages calcules\n",
    "   \n",
    "    \n",
    "    plt.plot(thin_col,depth_col,color=line_col[index_col],zorder = 2,label=distlabel)  # see line 2D properties in tutorial\n",
    "    \n",
    "    plt.legend(loc=2)\n",
    "    \n",
    "    return\n"
   ]
  },
  {
   "cell_type": "code",
   "execution_count": null,
   "metadata": {
    "scrolled": true
   },
   "outputs": [],
   "source": [
    "# resolution\n",
    "def plot_reso_vertical(distance,index_col,dist,reso,depth):\n",
    "\n",
    "    ## select a distance, find the corresponding index and extract the vertical profile data\n",
    "    epsilon = 0.01   # pour le test \n",
    "    result = np.where(abs(distance - dist[0,:]) < epsilon)\n",
    "    index = (result[0])                # index de la distance\n",
    "    distlabel = str(distance) + 'km'\n",
    "    \n",
    "    reso_col = reso[:,index]/1000.          # resolution calculée\n",
    "    depth_col = depth[:,index]              # profondeur des ages calcules\n",
    "    step = depth[2,index] - depth[1,index]  # pas vertical \n",
    "    print (step)\n",
    "    depth_col2 = depth[1:, index] - step    # correction pour tenir compte du fait que reso est obtenu par difference\n",
    "                                            # et a un noeud de moins\n",
    "   \n",
    "    #print (reso_col)\n",
    "    \n",
    "    plt.plot(reso_col,depth_col2,color=line_col[index_col],zorder = 2,label=distlabel)  # see line 2D properties in tutorial\n",
    "    \n",
    "    plt.legend(loc=1)\n",
    "    \n",
    "    return\n"
   ]
  },
  {
   "cell_type": "markdown",
   "metadata": {},
   "source": [
    "## PLOT"
   ]
  },
  {
   "cell_type": "markdown",
   "metadata": {},
   "source": [
    "### Figure 1 ages"
   ]
  },
  {
   "cell_type": "code",
   "execution_count": null,
   "metadata": {},
   "outputs": [],
   "source": [
    "fig, axes = plt.subplots()\n",
    "\n",
    "# taille figure\n",
    "#figure = plt.figure(figsize = (15, 10)) \n",
    "\n",
    "# pour avoir une figure un peu interactive\n",
    "#%matplotlib notebook    \n",
    "\n",
    "#Set labels for x and y axes as well as the plot title\n",
    "plt.xlabel(\"age (kyear)\")\n",
    "plt.ylabel(\"depth\")\n",
    "plt.title(\"age depth\")\n",
    "\n",
    "# type de ligne\n",
    "line_col = ['b','g','cyan','orange']\n",
    "\n",
    "# axe depth inverse\n",
    "plt.ylim(3000,0)\n",
    "plt.xlim(0,1500)\n",
    "\n",
    "# color of the line\n",
    "index_col = 0"
   ]
  },
  {
   "cell_type": "code",
   "execution_count": null,
   "metadata": {},
   "outputs": [],
   "source": [
    "# pour une verticale\n",
    "# parametres: distance (en km), index_col, age, depth , ages_iso, depth_iso\n",
    "plot_age_vertical(4.,1,dist,age,depth,ages_iso,depth_iso)"
   ]
  },
  {
   "cell_type": "code",
   "execution_count": null,
   "metadata": {},
   "outputs": [],
   "source": [
    "# pour une verticale\n",
    "# parametres: distance (en km), index_col, age, depth , ages_iso, depth_iso\n",
    "plot_age_vertical(9.,0,dist,age,depth,ages_iso,depth_iso)"
   ]
  },
  {
   "cell_type": "markdown",
   "metadata": {},
   "source": [
    "### Figure 2 thinning"
   ]
  },
  {
   "cell_type": "code",
   "execution_count": null,
   "metadata": {},
   "outputs": [],
   "source": [
    "fig, axes = plt.subplots()\n",
    "\n",
    "# taille figure\n",
    "#figure = plt.figure(figsize = (15, 10)) \n",
    "\n",
    "# pour avoir une figure un peu interactive\n",
    "#%matplotlib notebook    \n",
    "\n",
    "#Set labels for x and y axes as well as the plot title\n",
    "plt.xlabel(\"Thinning\")\n",
    "plt.ylabel(\"depth\")\n",
    "plt.title(\"Thinning depth\")\n",
    "\n",
    "# type de ligne\n",
    "line_col = ['b','g','cyan','orange']\n",
    "\n",
    "# axe depth inverse\n",
    "plt.ylim(3000,0)\n",
    "plt.xlim(0,1)\n",
    "\n",
    "# color of the line\n",
    "index_col = 0"
   ]
  },
  {
   "cell_type": "code",
   "execution_count": null,
   "metadata": {},
   "outputs": [],
   "source": [
    "# pour une verticale\n",
    "# parametres: distance (en km), index_col, thin, depth\n",
    "plot_thinning_vertical(4.,1,dist,thin,depth)"
   ]
  },
  {
   "cell_type": "code",
   "execution_count": null,
   "metadata": {},
   "outputs": [],
   "source": [
    "# pour une verticale\n",
    "# parametres: distance (en km), index_col, thin, depth\n",
    "plot_thinning_vertical(9.,0,dist,thin,depth)"
   ]
  },
  {
   "cell_type": "markdown",
   "metadata": {},
   "source": [
    "### Figure 3 resolution"
   ]
  },
  {
   "cell_type": "code",
   "execution_count": null,
   "metadata": {},
   "outputs": [],
   "source": [
    "fig, axes = plt.subplots()\n",
    "\n",
    "# taille figure\n",
    "#figure = plt.figure(figsize = (15, 10)) \n",
    "\n",
    "# pour avoir une figure un peu interactive\n",
    "#%matplotlib notebook    \n",
    "\n",
    "#Set labels for x and y axes as well as the plot title\n",
    "plt.xlabel(\"Age density (ky/m)\")\n",
    "plt.ylabel(\"depth\")\n",
    "plt.title(\"Age density- depth\")\n",
    "\n",
    "# type de ligne\n",
    "line_col = ['b','g','cyan','orange']\n",
    "\n",
    "# axe depth inverse\n",
    "plt.ylim(3000,0)\n",
    "plt.xlim(0,50)\n",
    "\n",
    "# color of the line\n",
    "index_col = 0"
   ]
  },
  {
   "cell_type": "code",
   "execution_count": null,
   "metadata": {},
   "outputs": [],
   "source": [
    "# pour une verticale\n",
    "# parametres: distance (en km), index_col, reso, depth\n",
    "plot_reso_vertical(4.,1,dist,reso,depth)"
   ]
  },
  {
   "cell_type": "code",
   "execution_count": null,
   "metadata": {},
   "outputs": [],
   "source": [
    "# pour une verticale\n",
    "# parametres: distance (en km), index_col, reso, depth\n",
    "plot_reso_vertical(9.,0,dist,reso,depth)"
   ]
  },
  {
   "cell_type": "code",
   "execution_count": null,
   "metadata": {},
   "outputs": [],
   "source": []
  },
  {
   "cell_type": "code",
   "execution_count": null,
   "metadata": {},
   "outputs": [],
   "source": []
  }
 ],
 "metadata": {
  "kernelspec": {
   "display_name": "Python 3",
   "language": "python",
   "name": "python3"
  },
  "language_info": {
   "codemirror_mode": {
    "name": "ipython",
    "version": 3
   },
   "file_extension": ".py",
   "mimetype": "text/x-python",
   "name": "python",
   "nbconvert_exporter": "python",
   "pygments_lexer": "ipython3",
   "version": "3.7.0"
  }
 },
 "nbformat": 4,
 "nbformat_minor": 2
}
